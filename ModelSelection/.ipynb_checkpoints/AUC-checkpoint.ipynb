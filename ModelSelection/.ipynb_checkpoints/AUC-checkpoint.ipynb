{
 "cells": [
  {
   "cell_type": "markdown",
   "metadata": {},
   "source": [
    "博客:[评价指标AUC原理及实践](https://blog.csdn.net/jiangjiang_jian/article/details/80674304)\n",
    "\n",
    "TP（true positive）：表示样本的真实类别为正，最后预测得到的结果也为正；\n",
    "FP（false positive）：表示样本的真实类别为负，最后预测得到的结果却为正；\n",
    "FN（false negative）：表示样本的真实类别为正，最后预测得到的结果却为负；\n",
    "TN（true negative）：表示样本的真实类别为负，最后预测得到的结果也为负.\n",
    "\n",
    "# 准确率和召回率：\n",
    "$$Precision = \\frac{TP}{TP+FP}$$\n",
    "$$Precision = \\frac{TP}{TP+FN}$$\n",
    "\n",
    "在许多分类学习器中，产生的是一个概率预测值，然后将这个概率预测值与一个提前设定好的分类阈值进行比较，大于该阈值则认为是正例，小于该阈值则认为是负例。如果对所有的排序结果按照概率值进行降序排序，那么阈值可以将结果截断为两部分，前面的认为是正例，后面的认为是负例。\n",
    "\n",
    "我们可以根据实际任务的需要选取不同的阈值。如果重视精确率，我们可以设定一个很高的阈值，如果更重视召回率，可以设定一个很低的阈值。\n",
    "\n",
    "# ROC\n",
    "到这里，我们会抛出两个问题：\n",
    "1)设定阈值然后再来计算精确率，召回率和F1-Score太麻烦了，这个阈值到底该设定为多少呢？有没有可以不设定阈值来直接评价我们的模型性能的方法呢？\n",
    "\n",
    "2)排序结果很重要呀，不管预测值是多少，只要正例的预测概率都大于负例的就好了呀。\n",
    "\n",
    "没错，ROC和AUC便可以解决我们上面抛出的两个问题。\n",
    "\n",
    "ROC全称是“受试者工作特征”，（receiver operating characteristic）。我们根据学习器的预测结果进行排序，然后按此顺序逐个把样本作为正例进行预测，每次计算出两个重要的值，分别以这两个值作为横纵坐标作图，就得到了ROC曲线。\n",
    "\n",
    "这两个指标是什么呢？是精确率和召回率么？并不是的，哈哈。\n",
    "\n",
    "ROC曲线的横轴为“假正例率”（False Positive Rate,FPR)，又称为“假阳率”；纵轴为“真正例率”(True Positive Rate,TPR)，又称为“真阳率”，\n",
    "\n",
    "假阳率，简单通俗来理解就是预测为正样本但是预测错了的可能性，显然，我们不希望该指标太高。\n",
    "$$TPR = \\frac{FP}{FP+TN}$$\n",
    "$$TPR = \\frac{TP}{TP+FN}$$\n",
    "\n",
    "ROC计算过程如下：\n",
    "\n",
    "1)首先每个样本都需要有一个label值，并且还需要一个预测的score值（取值0到1）;\n",
    "\n",
    "2)然后按这个score对样本由大到小进行排序，假设这些数据位于表格中的一列，从上到下依次降序;\n",
    "\n",
    "3)现在从上到下按照样本点的取值进行划分，位于分界点上面的我们把它归为预测为正样本，位于分界点下面的归为负样本;\n",
    "\n",
    "4)分别计算出此时的TPR和FPR，然后在图中绘制（FPR, TPR）点。\n",
    "![image.png](pic/ROC.gif)\n",
    "\n",
    "# AUC\n",
    "AUC（area under the curve）就是ROC曲线下方的面积，如下图所示，阴影部分面积即为AUC的值：\n",
    "![image.png](pic/AUC.png)\n",
    "AUC量化了ROC曲线表达的分类能力。这种分类能力是与概率、阈值紧密相关的，分类能力越好（AUC越大），那么输出概率越合理，排序的结果越合理。\n",
    "\n",
    "在CTR预估中，我们不仅希望分类器给出是否点击的分类信息，更需要分类器给出准确的概率值，作为排序的依据。\n"
   ]
  },
  {
   "cell_type": "markdown",
   "metadata": {},
   "source": [
    "## AUC 计算\n",
    "### 积分"
   ]
  },
  {
   "cell_type": "code",
   "execution_count": null,
   "metadata": {},
   "outputs": [],
   "source": [
    "auc = 0.0\n",
    "height = 0.0\n",
    " \n",
    "for each training example x_i, y_i：\n",
    "  if y_i = 1.0:\n",
    "    height = height + 1/(tp+fn)\n",
    "  else \n",
    "    auc +=  height * 1/(tn+fp)\n",
    " \n",
    "return auc"
   ]
  },
  {
   "cell_type": "markdown",
   "metadata": {},
   "source": [
    "### Wilcoxon-Mann-Witney Test\n"
   ]
  },
  {
   "cell_type": "code",
   "execution_count": null,
   "metadata": {},
   "outputs": [],
   "source": []
  }
 ],
 "metadata": {
  "kernelspec": {
   "display_name": "Python 3",
   "language": "python",
   "name": "python3"
  },
  "language_info": {
   "codemirror_mode": {
    "name": "ipython",
    "version": 3
   },
   "file_extension": ".py",
   "mimetype": "text/x-python",
   "name": "python",
   "nbconvert_exporter": "python",
   "pygments_lexer": "ipython3",
   "version": "3.6.5"
  },
  "toc": {
   "base_numbering": 1,
   "nav_menu": {},
   "number_sections": true,
   "sideBar": true,
   "skip_h1_title": false,
   "title_cell": "Table of Contents",
   "title_sidebar": "Contents",
   "toc_cell": false,
   "toc_position": {},
   "toc_section_display": true,
   "toc_window_display": false
  }
 },
 "nbformat": 4,
 "nbformat_minor": 2
}
