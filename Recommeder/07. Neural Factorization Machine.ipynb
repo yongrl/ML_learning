{
 "cells": [
  {
   "attachments": {},
   "cell_type": "markdown",
   "metadata": {},
   "source": [
    "博客:[推荐系统遇上深度学习(七)--NFM模型理论和实践](https://blog.csdn.net/jiangjiang_jian/article/details/80674200)\n",
    "    \n",
    "\n",
    "在前面介绍的FM中，FM致力于单个特征和特征的二次交叉：\n",
    "\n",
    "$$y= w_0 + \\sum_{i=1}^n w_i x_i + \\sum_{i=1}^{n-1} \\sum_{j = i+1}^n w_{ij}x_i x_j$$\n",
    "\n",
    "而NFM的目标是:\n",
    "    $$y= w_0 + \\sum_{i=1}^n w_i x_i + f(x)$$\n",
    "其中$f(x)$是用来建模特征之间交互关系的多层前馈神经网络模块。\n",
    "\n",
    "![image.png](pic/NFM1.png)\n",
    "\n",
    "Bi-Interaction Layer名字挺高大上的，其实它就是计算FM中的二次项的过程，因此得到的向量维度就是我们的Embedding的维度。最终的结果是：\n",
    "![image.png](pic/NFM2.png)\n",
    "Hidden Layers就是我们的DNN部分，将Bi-Interaction Layer得到的结果接入多层的神经网络进行训练，从而捕捉到特征之间复杂的非线性关系。\n",
    "\n",
    "在进行多层训练之后，将最后一层的输出求和同时加上一次项和偏置项，就得到了我们的预测输出。"
   ]
  },
  {
   "cell_type": "code",
   "execution_count": null,
   "metadata": {},
   "outputs": [],
   "source": []
  }
 ],
 "metadata": {
  "kernelspec": {
   "display_name": "Python 3",
   "language": "python",
   "name": "python3"
  },
  "language_info": {
   "codemirror_mode": {
    "name": "ipython",
    "version": 3
   },
   "file_extension": ".py",
   "mimetype": "text/x-python",
   "name": "python",
   "nbconvert_exporter": "python",
   "pygments_lexer": "ipython3",
   "version": "3.6.5"
  },
  "toc": {
   "base_numbering": 1,
   "nav_menu": {},
   "number_sections": true,
   "sideBar": true,
   "skip_h1_title": false,
   "title_cell": "Table of Contents",
   "title_sidebar": "Contents",
   "toc_cell": false,
   "toc_position": {},
   "toc_section_display": true,
   "toc_window_display": false
  }
 },
 "nbformat": 4,
 "nbformat_minor": 2
}
