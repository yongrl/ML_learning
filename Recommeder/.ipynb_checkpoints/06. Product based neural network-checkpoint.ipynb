{
 "cells": [
  {
   "attachments": {},
   "cell_type": "markdown",
   "metadata": {},
   "source": [
    "博客：[推荐系统遇上深度学习(六)--PNN模型理论和实践](https://blog.csdn.net/jiangjiang_jian/article/details/80674157)\n",
    "\n",
    "论文：[Product-based Neural Networks for User Response\n",
    "Prediction，2016](https://arxiv.org/pdf/1611.00144.pdf)\n",
    "\n",
    "在CTR预估中，为了解决稀疏特征的问题，学者们提出了FM模型来建模特征之间的交互关系。但是FM模型只能表达特征之间两两组合之间的关系，无法建模两个特征之间深层次的关系或者说多个特征之间的交互关系，因此学者们通过Deep Network来建模更高阶的特征之间的关系。\n",
    "\n",
    "因此 FM和深度网络DNN的结合也就成为了CTR预估问题中主流的方法。有关FM和DNN的结合有两种主流的方法，并行结构和串行结构。两种结构的理解以及实现如下表所示：\n",
    "\n",
    "|结构\t|描述\t|常见模型|\n",
    "|------|-----|------|\n",
    "|并行结构\t| FM部分和DNN部分分开计算，只在输出层进行一次融合得到结果\t|DeepFM，DCN，Wide&Deep|\n",
    "|串行结构\t| 将FM的一次项和二次项结果(或其中之一)作为DNN部分的输入，经DNN得到最终结果\t|PNN,NFM,AFM|\n",
    "\n",
    "这章讲第一个串行结构PNN.\n",
    "\n",
    "PNN，全称为Product-based Neural Networks，是一种基于乘法运算来提现特征交叉的dnn模型。其网络结构如下图所示：\n",
    "![image.png](pic/PNN1.jpg)\n",
    "从整体结构来看，PNN与FNN的区别在于多了一层Product Layer。PNN的结构为embeddding+product layer + fcs。而PNN使用product的方式做特征交叉的想法是认为在ctr场景中，特征的交叉更加提现在一种“且”的关系下，而add的操作，是一种“或”的关系，所以product的形式更加合适，会有更好的效果。Product Layer相当于给FM初始化的特征embedding做了一次交叉操作，且不需要像FNN一样需要预训练FM的embedding 参数。\n",
    "\n"
   ]
  },
  {
   "cell_type": "code",
   "execution_count": null,
   "metadata": {},
   "outputs": [],
   "source": []
  },
  {
   "cell_type": "code",
   "execution_count": null,
   "metadata": {},
   "outputs": [],
   "source": []
  },
  {
   "cell_type": "code",
   "execution_count": null,
   "metadata": {},
   "outputs": [],
   "source": []
  },
  {
   "cell_type": "code",
   "execution_count": null,
   "metadata": {},
   "outputs": [],
   "source": []
  }
 ],
 "metadata": {
  "kernelspec": {
   "display_name": "Python 3",
   "language": "python",
   "name": "python3"
  },
  "language_info": {
   "codemirror_mode": {
    "name": "ipython",
    "version": 3
   },
   "file_extension": ".py",
   "mimetype": "text/x-python",
   "name": "python",
   "nbconvert_exporter": "python",
   "pygments_lexer": "ipython3",
   "version": "3.6.5"
  },
  "toc": {
   "base_numbering": 1,
   "nav_menu": {},
   "number_sections": true,
   "sideBar": true,
   "skip_h1_title": false,
   "title_cell": "Table of Contents",
   "title_sidebar": "Contents",
   "toc_cell": false,
   "toc_position": {},
   "toc_section_display": true,
   "toc_window_display": false
  }
 },
 "nbformat": 4,
 "nbformat_minor": 2
}
